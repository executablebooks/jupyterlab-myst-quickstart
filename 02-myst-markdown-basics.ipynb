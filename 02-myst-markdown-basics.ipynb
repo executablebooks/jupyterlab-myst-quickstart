{
 "cells": [
  {
   "cell_type": "markdown",
   "id": "7fd00f2c-690c-4a9d-af67-c9fde0bfc86d",
   "metadata": {
    "iooxa": {
     "id": {
      "block": "IXuLvgxOeIt2FFo5O2Qd",
      "project": "eX33ugAB1eko1T47rL4U",
      "version": 1
     }
    },
    "tags": []
   },
   "source": [
    "---\n",
    "title: MyST Markdown Basics\n",
    "subtitle: In JupyterLab\n",
    "license: CC-BY-4.0\n",
    "github: https://github.com/executablebooks/mystjs\n",
    "subject: Tutorial\n",
    "venue: MyST Markdown\n",
    "biblio:\n",
    "  volume: '1'\n",
    "  issue: '42'\n",
    "authors:\n",
    "  - name: Rowan Cockett\n",
    "    email: rowan@curvenote.com\n",
    "    corresponding: true\n",
    "    orcid: 0000-0002-7859-8394\n",
    "    affiliations:\n",
    "      - Curvenote\n",
    "      - ExecutableBooks\n",
    "date: 2023/07/05\n",
    "math:\n",
    "  '\\dobs': '\\mathbf{d}_\\text{obs}'\n",
    "  '\\dpred': '\\mathbf{d}_\\text{pred}\\left( #1 \\right)'\n",
    "  '\\mref': '\\mathbf{m}_\\text{ref}'\n",
    "abbreviations:\n",
    "    MyST: Markedly Structured Text\n",
    "---"
   ]
  },
  {
   "cell_type": "markdown",
   "id": "c619e4ea-82a0-412f-afa0-f5952a786bff",
   "metadata": {},
   "source": [
    "MyST is an ecosystem of open-source, community-driven tools designed to revolutionize scientific communication. MyST supports blogs, online books, scientific papers, reports and journals articles.\n",
    "\n",
    "::::{important} Objective\n",
    "\n",
    "The goal of this quickstart is to get you up and running in JupyterLab with MyST Markdown and provide an editable example of many of the features available in MyST Markdown.\n",
    "\n",
    "For a full tutorial on MyST Markdown see the [MyST Markdown Guide](https://mystmd.org/guide/quickstart-myst-markdown) which provides more depth on syntax and pointers to other resources.\n",
    "::::\n"
   ]
  },
  {
   "cell_type": "markdown",
   "id": "124203ea-d9d8-4c2b-91b7-eca7cd68ee3f",
   "metadata": {
    "iooxa": {
     "id": {
      "block": "KYHXtXY69Ay0XJ6NeqOB",
      "project": "eX33ugAB1eko1T47rL4U",
      "version": 1
     }
    },
    "tags": []
   },
   "source": [
    "## Editing Markdown Cells\n",
    "\n",
    "Working with markdown cells is exactly the same as normal in Jupyter, try taking a look at the source of this cell.\n",
    "\n",
    "🛠 Double click to edit this cell, then type `Shift-Enter` to re-render the cell\n",
    "\n",
    ":::{tip} Let's start with Callouts! 💬\n",
    ":class: dropdown\n",
    "\n",
    "This is a callout (or admonition) in MyST, there are a few variants available including `{note}`, `{important}`, and `{warning}`.\n",
    "You can find the [full documentation for callouts here](https://mystmd.org/guide/admonitions).\n",
    ":::\n",
    "\n",
    "To change the style of the callout, try changing it to a `{note}`\n",
    "\n",
    "🛠 Edit the callout in this cell to `{note}` instead of a `{tip}`\n",
    "\n",
    "You can also add [directive options](https://mystmd.org/guide/syntax-overview#directives), with a `:class: dropdown` as the first line of the directive. Adding the dropdown class will turn this callout into a dropdown that is initially hidden, which is great for hiding solutions in JupyterLab for students, for example!"
   ]
  },
  {
   "cell_type": "markdown",
   "id": "aed570c6",
   "metadata": {
    "iooxa": {
     "id": {
      "block": "RTocFQmLRdbvYbdlomIF",
      "project": "eX33ugAB1eko1T47rL4U",
      "version": 1
     }
    },
    "tags": []
   },
   "source": [
    "## MyST Documentation\n",
    "\n",
    ":::{card} 📖 Images & Figures\n",
    ":link: https://mystmd.org/guide/figures\n",
    "MyST Markdown can be used to include images and figures in your documents as well as referencing those images easily throughout your website, article or paper.\n",
    ":::\n",
    "\n",
    ":::{card} 📖 Cross-References\n",
    ":link: https://mystmd.org/guide/cross-references\n",
    "References refer to labeled content (e.g. a figure, document or table) and automatically generates links and extra information, like numbering.\n",
    ":::"
   ]
  },
  {
   "cell_type": "markdown",
   "id": "d754aa61",
   "metadata": {
    "iooxa": {
     "id": {
      "block": "KXdpGskxtvowzfU91oQ2",
      "project": "eX33ugAB1eko1T47rL4U",
      "version": 1
     }
    }
   },
   "source": [
    "```{figure} https://source.unsplash.com/random/800x200?beach,ocean\n",
    ":name: fig4\n",
    ":width: 90%\n",
    "Relaxing at the beach 🏖\n",
    "```"
   ]
  },
  {
   "cell_type": "markdown",
   "id": "98ad0115-aaa8-42ca-9d24-23db25186f2d",
   "metadata": {},
   "source": [
    "```{mermaid}\n",
    "flowchart LR\n",
    "  A[Jupyter Notebook] --> C\n",
    "  B[MyST Markdown] --> C\n",
    "  C(mystmd) --> D{AST}\n",
    "  D <--> E[LaTeX]\n",
    "  E --> F[PDF]\n",
    "  D --> G[Word]\n",
    "  D --> H[React]\n",
    "  D --> I[HTML]\n",
    "  D <--> J[JATS]\n",
    "```"
   ]
  },
  {
   "cell_type": "markdown",
   "id": "b7e16780",
   "metadata": {
    "iooxa": {
     "id": {
      "block": "JsVHlli8fxFDRJ4AwgYD",
      "project": "eX33ugAB1eko1T47rL4U",
      "version": 1
     }
    }
   },
   "source": [
    "This chart shows an example of `using` an interval **selection**[^1] to filter the contents of an attached histogram, allowing the user to see the proportion of items in each category within the selection. See more in the [Altair Documentation](https://altair-viz.github.io/gallery/selection_histogram.html)\n",
    "\n",
    "[^1]: Footnote text\n",
    "\n",
    "```{figure} https://source.unsplash.com/random/800x300?beach,ocean\n",
    ":name: fig3\n",
    ":width: 80%\n",
    "Relaxing at the beach\n",
    "```\n",
    "\n",
    "```{math}\n",
    ":label: ok\n",
    "Ax=b\n",
    "```\n",
    "\n",
    "[hello](https://en.wikipedia.org/wiki/OK) or [code](https://github.com/executablebooks/mystjs/blob/main/packages/myst-directives/src/admonition.ts#L5)\n",
    "\n",
    "[](#ok) [](#hello)  [](#cross)\n",
    "\n",
    "```{warning}\n",
    ":class: dropdown\n",
    "ok\n",
    "```\n",
    "\n",
    "\n",
    "{term}`Test`"
   ]
  },
  {
   "cell_type": "markdown",
   "id": "6b039ec2",
   "metadata": {
    "iooxa": {
     "id": {
      "block": "QGTHSeJ61bCkBpmCrrC2",
      "project": "eX33ugAB1eko1T47rL4U",
      "version": 1
     }
    }
   },
   "source": [
    "The residual is the predicted data for the model, $\\dpred{m}$, minus the observed data, $\\dobs$. You can also calculate the predicted data for the reference model $\\dpred{\\mref}$."
   ]
  },
  {
   "cell_type": "markdown",
   "id": "744002eb",
   "metadata": {
    "iooxa": {
     "id": {
      "block": "EoNZS4NEd9Z7oMLptajn",
      "project": "eX33ugAB1eko1T47rL4U",
      "version": 1
     }
    }
   },
   "source": [
    "For example, this [](#cross):\n",
    "\n",
    "```{math}\n",
    ":label: equation\n",
    "\\sqrt{\\frac{5}{2}}\n",
    "```"
   ]
  },
  {
   "cell_type": "markdown",
   "id": "fc4bf610",
   "metadata": {
    "iooxa": {
     "id": {
      "block": "6bTJaB8Gis2Zvk4vMqd8",
      "project": "eX33ugAB1eko1T47rL4U",
      "version": 1
     }
    }
   },
   "source": [
    "For example, this equation:\n",
    "\n",
    "```{math}\n",
    ":label: cross\n",
    "\\mathbf{u} \\times \\mathbf{v}=\\left|\\begin{array}{ll}u_{2} & u_{3} \\\\ v_{2} & v_{3}\\end{array}\\right| \\mathbf{i}+\\left|\\begin{array}{ll}u_{3} & u_{1} \\\\ v_{3} & v_{1}\\end{array}\\right| \\mathbf{j}+\\left|\\begin{array}{ll}u_{1} & u_{2} \\\\ v_{1} & v_{2}\\end{array}\\right| \\mathbf{k}\n",
    "```"
   ]
  },
  {
   "cell_type": "markdown",
   "id": "4c980678-c49c-41a5-a05d-0e38414ca27c",
   "metadata": {
    "iooxa": {
     "id": {
      "block": "Sb1HBSVHxCGGD7wDDNMH",
      "project": "eX33ugAB1eko1T47rL4U",
      "version": 1
     }
    }
   },
   "source": [
    "<div><img src=\"https://source.unsplash.com/random/800x300?beach,ocean\" width=\"100px\"></div>\n",
    "\n",
    "<!-- just a comment! -->"
   ]
  },
  {
   "cell_type": "markdown",
   "id": "656a66e1",
   "metadata": {
    "iooxa": {
     "id": {
      "block": "VvV6vbFb9qPysHym3nTK",
      "project": "eX33ugAB1eko1T47rL4U",
      "version": 1
     }
    }
   },
   "source": [
    "## Tabs\n",
    "\n",
    "````{tab-set}\n",
    "```{tab-item} Tab 1\n",
    ":sync: tab1\n",
    "Tab one can sync (see below)!\n",
    "```\n",
    "```{tab-item} Tab 2\n",
    ":sync: tab2\n",
    "Tab two\n",
    "```\n",
    "````\n",
    "\n",
    "These tabs are set to sync:\n",
    "\n",
    "````{tab-set}\n",
    "```{tab-item} Tab 1 - Sync!\n",
    ":sync: tab1\n",
    "Tab one can sync!\n",
    "```\n",
    "```{tab-item} Tab 2\n",
    ":sync: tab2\n",
    "Tab two\n",
    "```\n",
    "````\n",
    "\n",
    "## Grids\n",
    "\n",
    "::::{grid} 1 1 2 3\n",
    "\n",
    ":::{card}\n",
    ":header: Text content ✏️\n",
    "Structure books with text files and Jupyter Notebooks with minimal configuration.\n",
    ":::\n",
    "\n",
    ":::{grid-item-card}\n",
    ":header: MyST Markdown ✨\n",
    "Write MyST Markdown to create enriched documents with publication-quality features.\n",
    ":::\n",
    "\n",
    ":::{grid-item-card}\n",
    ":header: Executable content 🔁\n",
    "Execute notebook cells, store results, and insert outputs across pages.\n",
    ":::\n",
    "::::\n",
    "\n",
    "\n",
    "## Cards\n",
    "\n",
    "\n",
    ":::{card}\n",
    ":header: MyST Markdown 🚀\n",
    ":link: https://myst-tools.org\n",
    "Write content in JupyterLab!\n",
    ":::\n"
   ]
  },
  {
   "cell_type": "markdown",
   "id": "6f9ace3f-b52f-44e2-8c53-b9478055d2b1",
   "metadata": {
    "iooxa": {
     "id": {
      "block": "Fvcor01wVX7webmTeR9C",
      "project": "eX33ugAB1eko1T47rL4U",
      "version": 1
     }
    }
   },
   "source": [
    ":::{glossary}\n",
    "\n",
    "Test\n",
    ": a thing\n",
    ":::\n",
    "\n"
   ]
  }
 ],
 "metadata": {
  "iooxa": {
   "id": {
    "block": "8j0w8Ypc3rFMhQN720QH",
    "project": "eX33ugAB1eko1T47rL4U",
    "version": 1
   }
  },
  "kernelspec": {
   "display_name": "Python 3 (ipykernel)",
   "language": "python",
   "name": "python3"
  },
  "language_info": {
   "codemirror_mode": {
    "name": "ipython",
    "version": 3
   },
   "file_extension": ".py",
   "mimetype": "text/x-python",
   "name": "python",
   "nbconvert_exporter": "python",
   "pygments_lexer": "ipython3",
   "version": "3.10.9"
  },
  "vscode": {
   "interpreter": {
    "hash": "a665b5d41d17b532ea9890333293a1b812fa0b73c9c25c950b3cedf1bebd0438"
   }
  },
  "widgets": {
   "application/vnd.jupyter.widget-state+json": {
    "state": {},
    "version_major": 2,
    "version_minor": 0
   }
  }
 },
 "nbformat": 4,
 "nbformat_minor": 5
}
