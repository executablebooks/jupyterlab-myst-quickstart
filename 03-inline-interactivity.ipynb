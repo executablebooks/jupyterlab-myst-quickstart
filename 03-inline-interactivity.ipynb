{
 "cells": [
  {
   "cell_type": "markdown",
   "id": "613eaf50-e4f0-4328-b0be-c246fb216577",
   "metadata": {},
   "source": [
    "---\n",
    "title: Inline Interactivity in Jupyter using MyST\n",
    "subtitle: Using inline widgets in JupyterLab markdown cells\n",
    "license: CC-BY\n",
    "author:\n",
    "  - name: Rowan Cockett\n",
    "    affiliations: Executable Books; Curvenote\n",
    "    orcid: 0000-0002-7859-8394\n",
    "    email: rowan@curvenote.com\n",
    "  - name: Angus Hollands\n",
    "    affiliations: Executable Books\n",
    "  - name: Steve Purves\n",
    "    affiliations: Executable Books; Curvenote\n",
    "date: 2023/02/20\n",
    "doi: https://doi.org/10.1190/tle35080703.1\n",
    "---\n",
    "\n",
    "The [JupyterLab MyST extension](https://github.com/executablebooks/jupyterlab-myst) allows you to have MyST renderer in your markdown cells that includes interactivity and inline-evaluation."
   ]
  },
  {
   "cell_type": "markdown",
   "id": "d3c1dba2-889d-4817-8d48-83d45c03a337",
   "metadata": {
    "tags": [],
    "user_expressions": [
     {
      "expression": "1+1",
      "result": {
       "data": {
        "text/plain": "2"
       },
       "metadata": {},
       "status": "ok"
      }
     }
    ]
   },
   "source": [
    "This is done through the `` {eval}`1+1` `` role, which results in {eval}`1+1`. The extension can also access variables in the kernel.\n",
    "\n",
    "\n",
    "\n",
    ":::{note} Syntax\n",
    ":class: dropdown\n",
    "The current syntax is based on a myst role, which may change in the future -- for example to be closer to an inline expression `${}`. This will go through a MyST enhancement proposal, and the `{eval}` role will likely still be supported.\n",
    ":::"
   ]
  },
  {
   "cell_type": "markdown",
   "id": "bc090e32-b45a-4ddd-9321-67e8e4d3f12f",
   "metadata": {},
   "source": [
    "{download}`./test.zip` [](asdf.ipynb)"
   ]
  },
  {
   "cell_type": "code",
   "execution_count": 4,
   "id": "90dffa46-b084-4b24-a650-e5f5a9aa526e",
   "metadata": {},
   "outputs": [],
   "source": [
    "import numpy as np\n",
    "array = np.arange(4)"
   ]
  },
  {
   "cell_type": "markdown",
   "id": "e8af4aa1-9d91-494e-9a76-4d57a611d9e0",
   "metadata": {
    "tags": [],
    "user_expressions": [
     {
      "expression": "array",
      "result": {
       "data": {
        "text/plain": "array([0, 1, 2, 3])"
       },
       "metadata": {},
       "status": "ok"
      }
     },
     {
      "expression": "array.sum()",
      "result": {
       "data": {
        "text/plain": "6"
       },
       "metadata": {},
       "status": "ok"
      }
     },
     {
      "expression": "array.max()",
      "result": {
       "data": {
        "text/plain": "3"
       },
       "metadata": {},
       "status": "ok"
      }
     }
    ]
   },
   "source": [
    "Let's consider the following array: {eval}`array`.\n",
    "\n",
    "We can compute the total: {eval}`array.sum()` and the maximum value is {eval}`array.max()`.\n",
    "\n",
    "This is done through using MyST syntax: `` {eval}`array.sum()` `` and `` {eval}`array.max()` ``, respectively."
   ]
  },
  {
   "cell_type": "code",
   "execution_count": 5,
   "id": "5ffba1f7-e455-4dce-a645-38988d97b01b",
   "metadata": {},
   "outputs": [],
   "source": [
    "import ipywidgets as widgets\n",
    "\n",
    "cookiesSlider = widgets.IntSlider(min=0, max=30, step=1, value=10, description=\"Cookies: \")\n",
    "cookiesText = widgets.BoundedIntText(\n",
    "    value=10,\n",
    "    min=0,\n",
    "    max=30,\n",
    "    step=1,\n",
    ")\n",
    "widgetLink = widgets.jslink((cookiesSlider, 'value'), (cookiesText, 'value'))\n",
    "\n",
    "caloriesPerCookie = 50\n",
    "dailyCalories = 2100.\n",
    "\n",
    "calories = widgets.Label(value=f'{cookiesSlider.value * caloriesPerCookie}')\n",
    "def fc(n):\n",
    "    calories.value = f'{n[\"owner\"].value * caloriesPerCookie}'\n",
    "cookiesSlider.observe(fc)\n",
    "\n",
    "\n",
    "percent = widgets.Label(value=f'{cookiesSlider.value * caloriesPerCookie / dailyCalories:.1%}')\n",
    "def fp(n):\n",
    "    percent.value = f'{n[\"owner\"].value * caloriesPerCookie / dailyCalories:.1%}'\n",
    "cookiesSlider.observe(fp)"
   ]
  },
  {
   "cell_type": "markdown",
   "id": "b8ac6e3c-2982-4921-a882-6b4eeaffe936",
   "metadata": {
    "user_expressions": [
     {
      "expression": "cookiesText",
      "result": {
       "data": {
        "application/vnd.jupyter.widget-view+json": {
         "model_id": "4dfcb295cadf4abe9fbf7c9746f045b3",
         "version_major": 2,
         "version_minor": 0
        },
        "text/plain": "BoundedIntText(value=10, max=30)"
       },
       "metadata": {},
       "status": "ok"
      }
     },
     {
      "expression": "calories",
      "result": {
       "data": {
        "application/vnd.jupyter.widget-view+json": {
         "model_id": "cb4616c4528f4a00833e2824d5a4da65",
         "version_major": 2,
         "version_minor": 0
        },
        "text/plain": "Label(value='500')"
       },
       "metadata": {},
       "status": "ok"
      }
     },
     {
      "expression": "percent",
      "result": {
       "data": {
        "application/vnd.jupyter.widget-view+json": {
         "model_id": "9432bc095c8a468b92b7d07f2d9c1622",
         "version_major": 2,
         "version_minor": 0
        },
        "text/plain": "Label(value='23.8%')"
       },
       "metadata": {},
       "status": "ok"
      }
     },
     {
      "expression": "cookiesSlider",
      "result": {
       "data": {
        "application/vnd.jupyter.widget-view+json": {
         "model_id": "a1a0dbcd3943414aa8563f082130f971",
         "version_major": 2,
         "version_minor": 0
        },
        "text/plain": "IntSlider(value=10, description='Cookies: ', max=30)"
       },
       "metadata": {},
       "status": "ok"
      }
     }
    ]
   },
   "source": [
    ":::{important} Calculate Consuming Cookie Calories 🍪 🧮\n",
    "When you eat {eval}`cookiesText` cookies, you consume {eval}`calories` calories. \\\n",
    "That's {eval}`percent` of your recommended daily calories.\n",
    ":::\n",
    "\n",
    "You can also edit this through a slider if you want: {eval}`cookiesSlider`\n",
    "\n",
    ":::{note} Improvements\n",
    ":class: dropdown\n",
    "There is a lot to improve both for formatting (e.g. format the numbering) and for the verbosity of the above code for linking and calculating the widgets.\n",
    "These are probably going to be a combination of a MyST library for working with simple inline widgets and showing numbers, as well as improvements and tweaks to the inline renderers for the mime bundles.\n",
    "\n",
    "But you can already do things! 🚀\n",
    ":::"
   ]
  },
  {
   "cell_type": "code",
   "execution_count": 6,
   "id": "600e74dc-6c54-4cb4-91c3-0e5107fcf589",
   "metadata": {},
   "outputs": [],
   "source": [
    "from IPython.display import Image, HTML\n",
    "\n",
    "i = Image(url='https://source.unsplash.com/random/400x50?sunset')"
   ]
  },
  {
   "cell_type": "markdown",
   "id": "edafa8a3-8dcd-4db3-a4cf-90c6aaf461bb",
   "metadata": {
    "user_expressions": [
     {
      "expression": "i",
      "result": {
       "data": {
        "text/html": "<img src=\"https://source.unsplash.com/random/400x50?sunset\"/>",
        "text/plain": "<IPython.core.display.Image object>"
       },
       "metadata": {},
       "status": "ok"
      }
     }
    ]
   },
   "source": [
    "This should be an inline image of a sunset: {eval}`i`"
   ]
  },
  {
   "cell_type": "code",
   "execution_count": 6,
   "id": "7a29588f-afb7-4e2b-99fb-132c6ab04372",
   "metadata": {},
   "outputs": [],
   "source": [
    "import numpy as np\n",
    "import matplotlib.pyplot as plt\n",
    "\n",
    "# Step 1: Predict the stock market, with surprising accuracy:\n",
    "data = np.cumsum(np.random.rand(1000)-0.5)\n",
    "data = data - np.mean(data)\n",
    "\n",
    "stocks = plt.figure(figsize=(10,2))\n",
    "ax1 = stocks.add_subplot(111)\n",
    "ax1.plot(data, 'b-')\n",
    "ax1.axhline(c='grey', alpha=0.5);\n",
    "plt.axis('off')\n",
    "plt.tight_layout();\n",
    "plt.close();\n",
    "\n",
    "annotated = plt.figure(figsize=(10,2))\n",
    "ax1 = annotated.add_subplot(111)\n",
    "plt.axvspan(450, 560, color='red', alpha=0.5)\n",
    "plt.axvspan(680, 740, color='green', alpha=0.5)\n",
    "ax1.plot(data, 'b-')\n",
    "ax1.axhline(c='grey', alpha=0.5);\n",
    "plt.axis('off')\n",
    "plt.tight_layout();\n",
    "plt.close();"
   ]
  },
  {
   "cell_type": "markdown",
   "id": "60a959ef-e31b-4383-9865-982e574debd3",
   "metadata": {
    "user_expressions": [
     {
      "expression": "stocks",
      "result": {
       "data": {
        "image/png": "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",
        "text/plain": "<Figure size 1000x200 with 1 Axes>"
       },
       "metadata": {},
       "status": "ok"
      }
     },
     {
      "expression": "annotated",
      "result": {
       "data": {
        "image/png": "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",
        "text/plain": "<Figure size 1000x200 with 1 Axes>"
       },
       "metadata": {},
       "status": "ok"
      }
     }
    ]
   },
   "source": [
    "\n",
    "If we look at the following stock price for [Apple](https://en.wikipedia.org/wiki/Apple_Inc.) ({eval}`stocks`) we can see that in 2003, they started selling [computers](https://en.wikipedia.org/wiki/MacBook_Pro), in the red region and their stock went crazy once the investment paid off ({eval}`annotated`).[^note]\n",
    "\n",
    "[^note]: Both the graphs are fake, but pretty cool right!  "
   ]
  },
  {
   "cell_type": "code",
   "execution_count": 7,
   "id": "463cdcbe-066d-4187-bf4a-d09b4233666f",
   "metadata": {},
   "outputs": [],
   "source": [
    "text_hover = HTML('<span onmouseover=\"this.innerText=\\'💚\\'\" onmouseout=\"this.innerText=\\'🎉\\'\">❤️</span>')"
   ]
  },
  {
   "cell_type": "markdown",
   "id": "dd711f73-94eb-4da4-ba01-2ac822450a2f",
   "metadata": {
    "tags": [],
    "user_expressions": [
     {
      "expression": "text_hover",
      "result": {
       "data": {
        "text/html": "<span onmouseover=\"this.innerText='💚'\" onmouseout=\"this.innerText='🎉'\">❤️</span>",
        "text/plain": "<IPython.core.display.HTML object>"
       },
       "metadata": {},
       "status": "ok"
      }
     }
    ]
   },
   "source": [
    "Try hovering over this element[^trust]: {eval}`text_hover`\n",
    "\n",
    "[^trust]: You may need to set your notebook to trusted to do this!"
   ]
  },
  {
   "cell_type": "code",
   "execution_count": 8,
   "id": "a5c493b0-285c-4709-b97e-25091e2adb6d",
   "metadata": {},
   "outputs": [],
   "source": [
    "from IPython.display import YouTubeVideo\n",
    "v = YouTubeVideo('NxSNVt9XsCI')"
   ]
  },
  {
   "cell_type": "markdown",
   "id": "52de521c-0ba0-47e2-858f-9a5244dfcb67",
   "metadata": {},
   "source": [
    "- [x] Create a community around MyST\n",
    "- [x] Make tasklists work in jupyterlab\n",
    "- [ ] Revolutionize technical communication"
   ]
  },
  {
   "cell_type": "code",
   "execution_count": null,
   "id": "4d6e664b-cd7f-4089-8f13-d392c14582da",
   "metadata": {},
   "outputs": [],
   "source": []
  }
 ],
 "metadata": {
  "kernelspec": {
   "display_name": "Python 3 (ipykernel)",
   "language": "python",
   "name": "python3"
  },
  "language_info": {
   "codemirror_mode": {
    "name": "ipython",
    "version": 3
   },
   "file_extension": ".py",
   "mimetype": "text/x-python",
   "name": "python",
   "nbconvert_exporter": "python",
   "pygments_lexer": "ipython3",
   "version": "3.10.9"
  }
 },
 "nbformat": 4,
 "nbformat_minor": 5
}
