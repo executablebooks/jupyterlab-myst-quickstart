{
 "cells": [
  {
   "cell_type": "markdown",
   "id": "613eaf50-e4f0-4328-b0be-c246fb216577",
   "metadata": {},
   "source": [
    "---\n",
    "title: Inline Interactivity in Jupyter using MyST\n",
    "subtitle: Using inline widgets in JupyterLab markdown cells\n",
    "license: CC-BY\n",
    "author:\n",
    "  - name: Rowan Cockett\n",
    "    affiliations: Executable Books; Curvenote\n",
    "    orcid: 0000-0002-7859-8394\n",
    "    email: rowan@curvenote.com\n",
    "  - name: Angus Hollands\n",
    "    affiliations: Executable Books\n",
    "  - name: Steve Purves\n",
    "    affiliations: Executable Books; Curvenote\n",
    "date: 2023/02/20\n",
    "---\n",
    "\n",
    "The [JupyterLab MyST extension](https://github.com/executablebooks/jupyterlab-myst) allows you to have MyST renderer in your markdown cells that includes interactivity and inline-evaluation."
   ]
  },
  {
   "cell_type": "markdown",
   "id": "d3c1dba2-889d-4817-8d48-83d45c03a337",
   "metadata": {
    "tags": [],
    "user_expressions": [
     {
      "expression": "1 + 1",
      "result": {
       "data": {
        "text/plain": "2"
       },
       "metadata": {},
       "status": "ok"
      }
     }
    ]
   },
   "source": [
    "This is done through the `` {eval}`1 + 1` `` role, which results in {eval}`1 + 1`. The extension can also access variables in the kernel."
   ]
  },
  {
   "cell_type": "code",
   "execution_count": 2,
   "id": "90dffa46-b084-4b24-a650-e5f5a9aa526e",
   "metadata": {},
   "outputs": [],
   "source": [
    "import numpy as np\n",
    "array = np.arange(4)"
   ]
  },
  {
   "cell_type": "markdown",
   "id": "e8af4aa1-9d91-494e-9a76-4d57a611d9e0",
   "metadata": {
    "tags": [],
    "user_expressions": [
     {
      "expression": "array",
      "result": {
       "data": {
        "text/plain": "array([0, 1, 2, 3])"
       },
       "metadata": {},
       "status": "ok"
      }
     }
    ]
   },
   "source": [
    ":::{exercise}\n",
    ":label: inline-arrays\n",
    "\n",
    "Let's consider the following array: {eval}`array`.\n",
    "\n",
    "SUM\n",
    ": We compute the total using `array.sum()`, which is ???\n",
    "\n",
    "MAX\n",
    ": We compute the maximum value using `array.max()`, which is ???\n",
    "\n",
    ":::\n",
    "\n",
    "🛠 In [](#inline-arrays) replace each `???` with an `{eval}` role for the correct expression\n",
    "\n",
    ":::{solution} inline-arrays\n",
    ":class: dropdown\n",
    "This is done through using MyST syntax: `` {eval}`array.sum()` `` and `` {eval}`array.max()` ``, respectively.\n",
    ":::"
   ]
  },
  {
   "cell_type": "code",
   "execution_count": 13,
   "id": "5ffba1f7-e455-4dce-a645-38988d97b01b",
   "metadata": {},
   "outputs": [],
   "source": [
    "import ipywidgets as widgets\n",
    "\n",
    "cookiesSlider = widgets.IntSlider(min=0, max=30, step=1, value=10, description=\"Cookies: \")\n",
    "cookiesText = widgets.BoundedIntText(\n",
    "    value=10,\n",
    "    min=0,\n",
    "    max=30,\n",
    "    step=1,\n",
    ")\n",
    "widgetLink = widgets.jslink((cookiesSlider, 'value'), (cookiesText, 'value'))\n",
    "\n",
    "caloriesPerCookie = 50\n",
    "dailyCalories = 2100.\n",
    "\n",
    "calories = widgets.Label(value=f'{cookiesSlider.value * caloriesPerCookie}')\n",
    "def fc(n):\n",
    "    calories.value = f'{n[\"owner\"].value * caloriesPerCookie}'\n",
    "cookiesSlider.observe(fc)\n",
    "\n",
    "\n",
    "percent = widgets.Label(value=f'{cookiesSlider.value * caloriesPerCookie / dailyCalories:.1%}')\n",
    "def fp(n):\n",
    "    percent.value = f'{n[\"owner\"].value * caloriesPerCookie / dailyCalories:.1%}'\n",
    "cookiesSlider.observe(fp)"
   ]
  },
  {
   "cell_type": "markdown",
   "id": "b8ac6e3c-2982-4921-a882-6b4eeaffe936",
   "metadata": {
    "user_expressions": [
     {
      "expression": "cookiesText",
      "result": {
       "data": {
        "application/vnd.jupyter.widget-view+json": {
         "model_id": "4f2156fb36e143b4875a4d5095144a6e",
         "version_major": 2,
         "version_minor": 0
        },
        "text/plain": "BoundedIntText(value=10, max=30)"
       },
       "metadata": {},
       "status": "ok"
      }
     },
     {
      "expression": "calories",
      "result": {
       "data": {
        "application/vnd.jupyter.widget-view+json": {
         "model_id": "f13d500278474c8181f8e3811a8b421b",
         "version_major": 2,
         "version_minor": 0
        },
        "text/plain": "Label(value='500')"
       },
       "metadata": {},
       "status": "ok"
      }
     },
     {
      "expression": "percent",
      "result": {
       "data": {
        "application/vnd.jupyter.widget-view+json": {
         "model_id": "7de0b0cc58b84c11bcb47ed5a2484dad",
         "version_major": 2,
         "version_minor": 0
        },
        "text/plain": "Label(value='23.8%')"
       },
       "metadata": {},
       "status": "ok"
      }
     },
     {
      "expression": "cookiesSlider",
      "result": {
       "data": {
        "application/vnd.jupyter.widget-view+json": {
         "model_id": "98e99732a256426fa68ebf9c8537d479",
         "version_major": 2,
         "version_minor": 0
        },
        "text/plain": "IntSlider(value=10, description='Cookies: ', max=30)"
       },
       "metadata": {},
       "status": "ok"
      }
     }
    ]
   },
   "source": [
    ":::{important} Calculate Consuming Cookie Calories 🍪 🧮\n",
    "When you eat {eval}`cookiesText` cookies, you consume {eval}`calories` calories. \\\n",
    "That's {eval}`percent` of your recommended daily calories.\n",
    ":::\n",
    "\n",
    "You can also edit this through a slider if you want: {eval}`cookiesSlider`\n",
    "\n",
    ":::{note} Improvements\n",
    ":class: dropdown\n",
    "There is a lot to improve both for formatting (e.g. format the numbering) and for the verbosity of the above code for linking and calculating the widgets.\n",
    "These are probably going to be a combination of a MyST library for working with simple inline widgets and showing numbers, as well as improvements and tweaks to the inline renderers for the mime bundles.\n",
    "\n",
    "But you can already do things! 🚀\n",
    ":::"
   ]
  },
  {
   "cell_type": "code",
   "execution_count": 12,
   "id": "7a29588f-afb7-4e2b-99fb-132c6ab04372",
   "metadata": {},
   "outputs": [],
   "source": [
    "import numpy as np\n",
    "import matplotlib.pyplot as plt\n",
    "\n",
    "def plotStocks(line_color = 'b'):\n",
    "    # Step 1: Predict the stock market, with surprising accuracy:\n",
    "    data = np.cumsum(np.random.rand(1000)-0.5)\n",
    "    data = data - np.mean(data)\n",
    "\n",
    "    stocks = plt.figure(figsize=(10,2))\n",
    "    ax1 = stocks.add_subplot(111)\n",
    "    ax1.plot(data, line_color)\n",
    "    ax1.axhline(c='grey', alpha=0.5);\n",
    "    plt.axis('off')\n",
    "    plt.tight_layout();\n",
    "    plt.close();\n",
    "\n",
    "    annotated = plt.figure(figsize=(10,2))\n",
    "    ax1 = annotated.add_subplot(111)\n",
    "    plt.axvspan(450, 560, color='red', alpha=0.5)\n",
    "    plt.axvspan(680, 740, color='green', alpha=0.5)\n",
    "    ax1.plot(data, line_color)\n",
    "    ax1.axhline(c='grey', alpha=0.5);\n",
    "    plt.axis('off')\n",
    "    plt.tight_layout();\n",
    "    plt.close();\n",
    "    \n",
    "    return stocks, annotated"
   ]
  },
  {
   "cell_type": "code",
   "execution_count": 13,
   "id": "8a1f028a-ba98-4815-9c39-b22a8f70d665",
   "metadata": {},
   "outputs": [],
   "source": [
    "stocks, annotated = plotStocks('r')"
   ]
  },
  {
   "cell_type": "markdown",
   "id": "60a959ef-e31b-4383-9865-982e574debd3",
   "metadata": {
    "user_expressions": [
     {
      "expression": "stocks",
      "result": {
       "data": {
        "image/png": "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",
        "text/plain": "<Figure size 1000x200 with 1 Axes>"
       },
       "metadata": {},
       "status": "ok"
      }
     },
     {
      "expression": "annotated",
      "result": {
       "data": {
        "image/png": "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",
        "text/plain": "<Figure size 1000x200 with 1 Axes>"
       },
       "metadata": {},
       "status": "ok"
      }
     }
    ]
   },
   "source": [
    "\n",
    "If we look at the following stock price for [Apple](https://en.wikipedia.org/wiki/Apple_Inc.) ({eval}`stocks`) we can see that in 2003, they started selling [computers](https://en.wikipedia.org/wiki/MacBook_Pro), in the red region and their stock went crazy once the investment paid off ({eval}`annotated`).[^note]\n",
    "\n",
    "[^note]: Both the graphs are fake, but pretty cool right!  "
   ]
  },
  {
   "cell_type": "code",
   "execution_count": 10,
   "id": "612c2e45-8096-4fee-89d4-9732d56ec247",
   "metadata": {},
   "outputs": [],
   "source": [
    "from sympy import symbols, expand\n",
    "x, y = symbols('x y')\n",
    "expr = x + 2*y\n",
    "polynomial = x*expr"
   ]
  },
  {
   "cell_type": "markdown",
   "id": "319276f3-c4c6-4b9e-8131-27c9d8e7671d",
   "metadata": {
    "user_expressions": [
     {
      "expression": "polynomial",
      "result": {
       "data": {
        "text/latex": "$\\displaystyle x \\left(x + 2 y\\right)$",
        "text/plain": "x*(x + 2*y)"
       },
       "metadata": {},
       "status": "ok"
      }
     },
     {
      "expression": "expand(polynomial)",
      "result": {
       "data": {
        "text/latex": "$\\displaystyle x^{2} + 2 x y$",
        "text/plain": "x**2 + 2*x*y"
       },
       "metadata": {},
       "status": "ok"
      }
     }
    ]
   },
   "source": [
    "🛠 Try changing the `expr` above and then re-execute this cell to see the update!\n",
    "\n",
    "When we expand the polynomial {eval}`polynomial`, we get {eval}`expand(polynomial)`."
   ]
  },
  {
   "cell_type": "code",
   "execution_count": 14,
   "id": "463cdcbe-066d-4187-bf4a-d09b4233666f",
   "metadata": {},
   "outputs": [],
   "source": [
    "text_hover = HTML('<span onmouseover=\"this.innerText=\\'💚\\'\" onmouseout=\"this.innerText=\\'🎉\\'\">❤️</span>')"
   ]
  },
  {
   "cell_type": "markdown",
   "id": "dd711f73-94eb-4da4-ba01-2ac822450a2f",
   "metadata": {
    "tags": [],
    "user_expressions": [
     {
      "expression": "text_hover",
      "result": {
       "data": {
        "text/html": "<span onmouseover=\"this.innerText='💚'\" onmouseout=\"this.innerText='🎉'\">❤️</span>",
        "text/plain": "<IPython.core.display.HTML object>"
       },
       "metadata": {},
       "status": "ok"
      }
     }
    ]
   },
   "source": [
    "Try hovering over this element[^trust]: {eval}`text_hover`\n",
    "\n",
    "[^trust]: You may need to set your notebook to trusted to do this!"
   ]
  },
  {
   "cell_type": "code",
   "execution_count": 9,
   "id": "600e74dc-6c54-4cb4-91c3-0e5107fcf589",
   "metadata": {},
   "outputs": [],
   "source": [
    "from IPython.display import Image, HTML\n",
    "\n",
    "i = Image(url='https://source.unsplash.com/random/400x50?sunset')"
   ]
  },
  {
   "cell_type": "markdown",
   "id": "edafa8a3-8dcd-4db3-a4cf-90c6aaf461bb",
   "metadata": {
    "user_expressions": [
     {
      "expression": "i",
      "result": {
       "data": {
        "text/html": "<img src=\"https://source.unsplash.com/random/400x50?sunset\"/>",
        "text/plain": "<IPython.core.display.Image object>"
       },
       "metadata": {},
       "status": "ok"
      }
     }
    ]
   },
   "source": [
    "This should be an inline image of a sunset: {eval}`i`"
   ]
  }
 ],
 "metadata": {
  "kernelspec": {
   "display_name": "Python 3 (ipykernel)",
   "language": "python",
   "name": "python3"
  },
  "language_info": {
   "codemirror_mode": {
    "name": "ipython",
    "version": 3
   },
   "file_extension": ".py",
   "mimetype": "text/x-python",
   "name": "python",
   "nbconvert_exporter": "python",
   "pygments_lexer": "ipython3",
   "version": "3.10.9"
  }
 },
 "nbformat": 4,
 "nbformat_minor": 5
}
