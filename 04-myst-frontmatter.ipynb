{
  "cells": [
    {
      "cell_type": "markdown",
      "id": "7fd00f2c-690c-4a9d-af67-c9fde0bfc86d",
      "metadata": {
        "tags": []
      },
      "source": [
        "---\n",
        "title: Using MyST Frontmatter\n",
        "subtitle: In JupyterLab\n",
        "license: CC-BY-4.0\n",
        "github: https://github.com/executablebooks/mystmd\n",
        "subject: Tutorial\n",
        "venue: MyST Markdown\n",
        "biblio:\n",
        "  volume: '1'\n",
        "  issue: '42'\n",
        "authors:\n",
        "  - name: Rowan Cockett\n",
        "    email: rowan@curvenote.com\n",
        "    corresponding: true\n",
        "    orcid: 0000-0002-7859-8394\n",
        "    affiliations:\n",
        "      - Curvenote\n",
        "      - ExecutableBooks\n",
        "date: 2023/07/05\n",
        "math:\n",
        "  '\\dobs': '\\mathbf{d}_\\text{obs}'\n",
        "  '\\dpred': '\\mathbf{d}_\\text{pred}\\left( #1 \\right)'\n",
        "  '\\mref': '\\mathbf{m}_\\text{ref}'\n",
        "abbreviations:\n",
        "    MyST: Markedly Structured Text\n",
        "---"
      ]
    },
    {
      "cell_type": "markdown",
      "id": "c619e4ea-82a0-412f-afa0-f5952a786bff",
      "metadata": {},
      "source": [
        ":::{important} Objective\n",
        "\n",
        "The goal of this quickstart is to get you up and running in JupyterLab with MyST Markdown **Frontmatter**.\n",
        "\n",
        "For a full guide on frontmatter see the [MyST Markdown Guide](https://mystmd.org/guide/frontmatter).\n",
        ":::"
      ]
    },
    {
      "cell_type": "markdown",
      "id": "6b039ec2",
      "metadata": {},
      "source": [
        "### Math Macros\n",
        "\n",
        "The residual is the predicted data for the model, $\\dpred{m}$, minus the observed data, $\\dobs$. You can also calculate the predicted data for the reference model $\\dpred{\\mref}$."
      ]
    }
  ],
  "metadata": {
    "kernelspec": {
      "display_name": "Python 3 (ipykernel)",
      "language": "python",
      "name": "python3"
    },
    "language_info": {
      "codemirror_mode": {
        "name": "ipython",
        "version": 3
      },
      "file_extension": ".py",
      "mimetype": "text/x-python",
      "name": "python",
      "nbconvert_exporter": "python",
      "pygments_lexer": "ipython3",
      "version": "3.10.9"
    },
    "vscode": {
      "interpreter": {
        "hash": "a665b5d41d17b532ea9890333293a1b812fa0b73c9c25c950b3cedf1bebd0438"
      }
    },
    "widgets": {
      "application/vnd.jupyter.widget-state+json": {
        "state": {},
        "version_major": 2,
        "version_minor": 0
      }
    }
  },
  "nbformat": 4,
  "nbformat_minor": 5
}
